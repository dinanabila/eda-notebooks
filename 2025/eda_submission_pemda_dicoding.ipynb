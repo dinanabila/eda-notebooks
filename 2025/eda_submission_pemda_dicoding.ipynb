{
  "nbformat": 4,
  "nbformat_minor": 0,
  "metadata": {
    "colab": {
      "provenance": [],
      "toc_visible": true,
      "authorship_tag": "ABX9TyNpCfopZSwB8itGZD7moDRH",
      "include_colab_link": true
    },
    "kernelspec": {
      "name": "python3",
      "display_name": "Python 3"
    },
    "language_info": {
      "name": "python"
    }
  },
  "cells": [
    {
      "cell_type": "markdown",
      "metadata": {
        "id": "view-in-github",
        "colab_type": "text"
      },
      "source": [
        "<a href=\"https://colab.research.google.com/github/dinanabila/eda-notebooks/blob/main/2025/eda_submission_pemda_dicoding.ipynb\" target=\"_parent\"><img src=\"https://colab.research.google.com/assets/colab-badge.svg\" alt=\"Open In Colab\"/></a>"
      ]
    },
    {
      "cell_type": "markdown",
      "source": [
        "Exploratory data analysis ini dilakukan sebagai panduan dalam merancang script transform untuk proses ETL submission kelas Dicoding Belajar Fundamental Pemrosesan Data.\n",
        "\n",
        "Dataset yang digunakan diperoleh dari hasil scraping web berikut: https://fashion-studio.dicoding.dev"
      ],
      "metadata": {
        "id": "KP1Hk0ZNLjyg"
      }
    },
    {
      "cell_type": "code",
      "execution_count": 1,
      "metadata": {
        "id": "sEU1lbijQaMh"
      },
      "outputs": [],
      "source": [
        "import pandas as pd"
      ]
    },
    {
      "cell_type": "code",
      "source": [
        "df = pd.read_csv('https://raw.githubusercontent.com/dinanabila/eda-notebooks/refs/heads/main/data/submission-pemda-dicoding.csv')\n",
        "df.head()"
      ],
      "metadata": {
        "colab": {
          "base_uri": "https://localhost:8080/",
          "height": 206
        },
        "id": "lE6eaDzBQsQ6",
        "outputId": "d2cda76d-4691-456a-9108-611d7068dd7f"
      },
      "execution_count": 2,
      "outputs": [
        {
          "output_type": "execute_result",
          "data": {
            "text/plain": [
              "             Title    Price               Rating  Colors Size  Gender  \\\n",
              "0  Unknown Product  $100.00   Invalid Rating / 5       5    M     Men   \n",
              "1        T-shirt 2  $102.15              3.9 / 5       3    M   Women   \n",
              "2         Hoodie 3  $496.88              4.8 / 5       3    L  Unisex   \n",
              "3          Pants 4  $467.31              3.3 / 5       3   XL     Men   \n",
              "4      Outerwear 5  $321.59              3.5 / 5       3  XXL   Women   \n",
              "\n",
              "                    Timestamp  \n",
              "0  2025-07-19T07:00:01.308790  \n",
              "1  2025-07-19T07:00:01.308790  \n",
              "2  2025-07-19T07:00:01.308790  \n",
              "3  2025-07-19T07:00:01.308790  \n",
              "4  2025-07-19T07:00:01.308790  "
            ],
            "text/html": [
              "\n",
              "  <div id=\"df-8bb886f1-e9c0-4a56-85b5-fc01ac730581\" class=\"colab-df-container\">\n",
              "    <div>\n",
              "<style scoped>\n",
              "    .dataframe tbody tr th:only-of-type {\n",
              "        vertical-align: middle;\n",
              "    }\n",
              "\n",
              "    .dataframe tbody tr th {\n",
              "        vertical-align: top;\n",
              "    }\n",
              "\n",
              "    .dataframe thead th {\n",
              "        text-align: right;\n",
              "    }\n",
              "</style>\n",
              "<table border=\"1\" class=\"dataframe\">\n",
              "  <thead>\n",
              "    <tr style=\"text-align: right;\">\n",
              "      <th></th>\n",
              "      <th>Title</th>\n",
              "      <th>Price</th>\n",
              "      <th>Rating</th>\n",
              "      <th>Colors</th>\n",
              "      <th>Size</th>\n",
              "      <th>Gender</th>\n",
              "      <th>Timestamp</th>\n",
              "    </tr>\n",
              "  </thead>\n",
              "  <tbody>\n",
              "    <tr>\n",
              "      <th>0</th>\n",
              "      <td>Unknown Product</td>\n",
              "      <td>$100.00</td>\n",
              "      <td>Invalid Rating / 5</td>\n",
              "      <td>5</td>\n",
              "      <td>M</td>\n",
              "      <td>Men</td>\n",
              "      <td>2025-07-19T07:00:01.308790</td>\n",
              "    </tr>\n",
              "    <tr>\n",
              "      <th>1</th>\n",
              "      <td>T-shirt 2</td>\n",
              "      <td>$102.15</td>\n",
              "      <td>3.9 / 5</td>\n",
              "      <td>3</td>\n",
              "      <td>M</td>\n",
              "      <td>Women</td>\n",
              "      <td>2025-07-19T07:00:01.308790</td>\n",
              "    </tr>\n",
              "    <tr>\n",
              "      <th>2</th>\n",
              "      <td>Hoodie 3</td>\n",
              "      <td>$496.88</td>\n",
              "      <td>4.8 / 5</td>\n",
              "      <td>3</td>\n",
              "      <td>L</td>\n",
              "      <td>Unisex</td>\n",
              "      <td>2025-07-19T07:00:01.308790</td>\n",
              "    </tr>\n",
              "    <tr>\n",
              "      <th>3</th>\n",
              "      <td>Pants 4</td>\n",
              "      <td>$467.31</td>\n",
              "      <td>3.3 / 5</td>\n",
              "      <td>3</td>\n",
              "      <td>XL</td>\n",
              "      <td>Men</td>\n",
              "      <td>2025-07-19T07:00:01.308790</td>\n",
              "    </tr>\n",
              "    <tr>\n",
              "      <th>4</th>\n",
              "      <td>Outerwear 5</td>\n",
              "      <td>$321.59</td>\n",
              "      <td>3.5 / 5</td>\n",
              "      <td>3</td>\n",
              "      <td>XXL</td>\n",
              "      <td>Women</td>\n",
              "      <td>2025-07-19T07:00:01.308790</td>\n",
              "    </tr>\n",
              "  </tbody>\n",
              "</table>\n",
              "</div>\n",
              "    <div class=\"colab-df-buttons\">\n",
              "\n",
              "  <div class=\"colab-df-container\">\n",
              "    <button class=\"colab-df-convert\" onclick=\"convertToInteractive('df-8bb886f1-e9c0-4a56-85b5-fc01ac730581')\"\n",
              "            title=\"Convert this dataframe to an interactive table.\"\n",
              "            style=\"display:none;\">\n",
              "\n",
              "  <svg xmlns=\"http://www.w3.org/2000/svg\" height=\"24px\" viewBox=\"0 -960 960 960\">\n",
              "    <path d=\"M120-120v-720h720v720H120Zm60-500h600v-160H180v160Zm220 220h160v-160H400v160Zm0 220h160v-160H400v160ZM180-400h160v-160H180v160Zm440 0h160v-160H620v160ZM180-180h160v-160H180v160Zm440 0h160v-160H620v160Z\"/>\n",
              "  </svg>\n",
              "    </button>\n",
              "\n",
              "  <style>\n",
              "    .colab-df-container {\n",
              "      display:flex;\n",
              "      gap: 12px;\n",
              "    }\n",
              "\n",
              "    .colab-df-convert {\n",
              "      background-color: #E8F0FE;\n",
              "      border: none;\n",
              "      border-radius: 50%;\n",
              "      cursor: pointer;\n",
              "      display: none;\n",
              "      fill: #1967D2;\n",
              "      height: 32px;\n",
              "      padding: 0 0 0 0;\n",
              "      width: 32px;\n",
              "    }\n",
              "\n",
              "    .colab-df-convert:hover {\n",
              "      background-color: #E2EBFA;\n",
              "      box-shadow: 0px 1px 2px rgba(60, 64, 67, 0.3), 0px 1px 3px 1px rgba(60, 64, 67, 0.15);\n",
              "      fill: #174EA6;\n",
              "    }\n",
              "\n",
              "    .colab-df-buttons div {\n",
              "      margin-bottom: 4px;\n",
              "    }\n",
              "\n",
              "    [theme=dark] .colab-df-convert {\n",
              "      background-color: #3B4455;\n",
              "      fill: #D2E3FC;\n",
              "    }\n",
              "\n",
              "    [theme=dark] .colab-df-convert:hover {\n",
              "      background-color: #434B5C;\n",
              "      box-shadow: 0px 1px 3px 1px rgba(0, 0, 0, 0.15);\n",
              "      filter: drop-shadow(0px 1px 2px rgba(0, 0, 0, 0.3));\n",
              "      fill: #FFFFFF;\n",
              "    }\n",
              "  </style>\n",
              "\n",
              "    <script>\n",
              "      const buttonEl =\n",
              "        document.querySelector('#df-8bb886f1-e9c0-4a56-85b5-fc01ac730581 button.colab-df-convert');\n",
              "      buttonEl.style.display =\n",
              "        google.colab.kernel.accessAllowed ? 'block' : 'none';\n",
              "\n",
              "      async function convertToInteractive(key) {\n",
              "        const element = document.querySelector('#df-8bb886f1-e9c0-4a56-85b5-fc01ac730581');\n",
              "        const dataTable =\n",
              "          await google.colab.kernel.invokeFunction('convertToInteractive',\n",
              "                                                    [key], {});\n",
              "        if (!dataTable) return;\n",
              "\n",
              "        const docLinkHtml = 'Like what you see? Visit the ' +\n",
              "          '<a target=\"_blank\" href=https://colab.research.google.com/notebooks/data_table.ipynb>data table notebook</a>'\n",
              "          + ' to learn more about interactive tables.';\n",
              "        element.innerHTML = '';\n",
              "        dataTable['output_type'] = 'display_data';\n",
              "        await google.colab.output.renderOutput(dataTable, element);\n",
              "        const docLink = document.createElement('div');\n",
              "        docLink.innerHTML = docLinkHtml;\n",
              "        element.appendChild(docLink);\n",
              "      }\n",
              "    </script>\n",
              "  </div>\n",
              "\n",
              "\n",
              "    <div id=\"df-e02dee70-af91-4b95-823e-ac07a187fa2c\">\n",
              "      <button class=\"colab-df-quickchart\" onclick=\"quickchart('df-e02dee70-af91-4b95-823e-ac07a187fa2c')\"\n",
              "                title=\"Suggest charts\"\n",
              "                style=\"display:none;\">\n",
              "\n",
              "<svg xmlns=\"http://www.w3.org/2000/svg\" height=\"24px\"viewBox=\"0 0 24 24\"\n",
              "     width=\"24px\">\n",
              "    <g>\n",
              "        <path d=\"M19 3H5c-1.1 0-2 .9-2 2v14c0 1.1.9 2 2 2h14c1.1 0 2-.9 2-2V5c0-1.1-.9-2-2-2zM9 17H7v-7h2v7zm4 0h-2V7h2v10zm4 0h-2v-4h2v4z\"/>\n",
              "    </g>\n",
              "</svg>\n",
              "      </button>\n",
              "\n",
              "<style>\n",
              "  .colab-df-quickchart {\n",
              "      --bg-color: #E8F0FE;\n",
              "      --fill-color: #1967D2;\n",
              "      --hover-bg-color: #E2EBFA;\n",
              "      --hover-fill-color: #174EA6;\n",
              "      --disabled-fill-color: #AAA;\n",
              "      --disabled-bg-color: #DDD;\n",
              "  }\n",
              "\n",
              "  [theme=dark] .colab-df-quickchart {\n",
              "      --bg-color: #3B4455;\n",
              "      --fill-color: #D2E3FC;\n",
              "      --hover-bg-color: #434B5C;\n",
              "      --hover-fill-color: #FFFFFF;\n",
              "      --disabled-bg-color: #3B4455;\n",
              "      --disabled-fill-color: #666;\n",
              "  }\n",
              "\n",
              "  .colab-df-quickchart {\n",
              "    background-color: var(--bg-color);\n",
              "    border: none;\n",
              "    border-radius: 50%;\n",
              "    cursor: pointer;\n",
              "    display: none;\n",
              "    fill: var(--fill-color);\n",
              "    height: 32px;\n",
              "    padding: 0;\n",
              "    width: 32px;\n",
              "  }\n",
              "\n",
              "  .colab-df-quickchart:hover {\n",
              "    background-color: var(--hover-bg-color);\n",
              "    box-shadow: 0 1px 2px rgba(60, 64, 67, 0.3), 0 1px 3px 1px rgba(60, 64, 67, 0.15);\n",
              "    fill: var(--button-hover-fill-color);\n",
              "  }\n",
              "\n",
              "  .colab-df-quickchart-complete:disabled,\n",
              "  .colab-df-quickchart-complete:disabled:hover {\n",
              "    background-color: var(--disabled-bg-color);\n",
              "    fill: var(--disabled-fill-color);\n",
              "    box-shadow: none;\n",
              "  }\n",
              "\n",
              "  .colab-df-spinner {\n",
              "    border: 2px solid var(--fill-color);\n",
              "    border-color: transparent;\n",
              "    border-bottom-color: var(--fill-color);\n",
              "    animation:\n",
              "      spin 1s steps(1) infinite;\n",
              "  }\n",
              "\n",
              "  @keyframes spin {\n",
              "    0% {\n",
              "      border-color: transparent;\n",
              "      border-bottom-color: var(--fill-color);\n",
              "      border-left-color: var(--fill-color);\n",
              "    }\n",
              "    20% {\n",
              "      border-color: transparent;\n",
              "      border-left-color: var(--fill-color);\n",
              "      border-top-color: var(--fill-color);\n",
              "    }\n",
              "    30% {\n",
              "      border-color: transparent;\n",
              "      border-left-color: var(--fill-color);\n",
              "      border-top-color: var(--fill-color);\n",
              "      border-right-color: var(--fill-color);\n",
              "    }\n",
              "    40% {\n",
              "      border-color: transparent;\n",
              "      border-right-color: var(--fill-color);\n",
              "      border-top-color: var(--fill-color);\n",
              "    }\n",
              "    60% {\n",
              "      border-color: transparent;\n",
              "      border-right-color: var(--fill-color);\n",
              "    }\n",
              "    80% {\n",
              "      border-color: transparent;\n",
              "      border-right-color: var(--fill-color);\n",
              "      border-bottom-color: var(--fill-color);\n",
              "    }\n",
              "    90% {\n",
              "      border-color: transparent;\n",
              "      border-bottom-color: var(--fill-color);\n",
              "    }\n",
              "  }\n",
              "</style>\n",
              "\n",
              "      <script>\n",
              "        async function quickchart(key) {\n",
              "          const quickchartButtonEl =\n",
              "            document.querySelector('#' + key + ' button');\n",
              "          quickchartButtonEl.disabled = true;  // To prevent multiple clicks.\n",
              "          quickchartButtonEl.classList.add('colab-df-spinner');\n",
              "          try {\n",
              "            const charts = await google.colab.kernel.invokeFunction(\n",
              "                'suggestCharts', [key], {});\n",
              "          } catch (error) {\n",
              "            console.error('Error during call to suggestCharts:', error);\n",
              "          }\n",
              "          quickchartButtonEl.classList.remove('colab-df-spinner');\n",
              "          quickchartButtonEl.classList.add('colab-df-quickchart-complete');\n",
              "        }\n",
              "        (() => {\n",
              "          let quickchartButtonEl =\n",
              "            document.querySelector('#df-e02dee70-af91-4b95-823e-ac07a187fa2c button');\n",
              "          quickchartButtonEl.style.display =\n",
              "            google.colab.kernel.accessAllowed ? 'block' : 'none';\n",
              "        })();\n",
              "      </script>\n",
              "    </div>\n",
              "\n",
              "    </div>\n",
              "  </div>\n"
            ],
            "application/vnd.google.colaboratory.intrinsic+json": {
              "type": "dataframe",
              "variable_name": "df",
              "summary": "{\n  \"name\": \"df\",\n  \"rows\": 1000,\n  \"fields\": [\n    {\n      \"column\": \"Title\",\n      \"properties\": {\n        \"dtype\": \"string\",\n        \"num_unique_values\": 901,\n        \"samples\": [\n          \"Jacket 78\",\n          \"Pants 262\",\n          \"Pants 478\"\n        ],\n        \"semantic_type\": \"\",\n        \"description\": \"\"\n      }\n    },\n    {\n      \"column\": \"Price\",\n      \"properties\": {\n        \"dtype\": \"string\",\n        \"num_unique_values\": 859,\n        \"samples\": [\n          \"$281.03\",\n          \"$184.32\",\n          \"$289.72\"\n        ],\n        \"semantic_type\": \"\",\n        \"description\": \"\"\n      }\n    },\n    {\n      \"column\": \"Rating\",\n      \"properties\": {\n        \"dtype\": \"category\",\n        \"num_unique_values\": 23,\n        \"samples\": [\n          \" 4.6 / 5\",\n          \" 3.8 / 5\",\n          \" Invalid Rating / 5\"\n        ],\n        \"semantic_type\": \"\",\n        \"description\": \"\"\n      }\n    },\n    {\n      \"column\": \"Colors\",\n      \"properties\": {\n        \"dtype\": \"number\",\n        \"std\": 1,\n        \"min\": 3,\n        \"max\": 8,\n        \"num_unique_values\": 3,\n        \"samples\": [\n          5,\n          3,\n          8\n        ],\n        \"semantic_type\": \"\",\n        \"description\": \"\"\n      }\n    },\n    {\n      \"column\": \"Size\",\n      \"properties\": {\n        \"dtype\": \"category\",\n        \"num_unique_values\": 5,\n        \"samples\": [\n          \"L\",\n          \"S\",\n          \"XL\"\n        ],\n        \"semantic_type\": \"\",\n        \"description\": \"\"\n      }\n    },\n    {\n      \"column\": \"Gender\",\n      \"properties\": {\n        \"dtype\": \"category\",\n        \"num_unique_values\": 3,\n        \"samples\": [\n          \"Men\",\n          \"Women\",\n          \"Unisex\"\n        ],\n        \"semantic_type\": \"\",\n        \"description\": \"\"\n      }\n    },\n    {\n      \"column\": \"Timestamp\",\n      \"properties\": {\n        \"dtype\": \"object\",\n        \"num_unique_values\": 50,\n        \"samples\": [\n          \"2025-07-19T07:00:14.255827\",\n          \"2025-07-19T07:00:43.752464\",\n          \"2025-07-19T07:00:38.387993\"\n        ],\n        \"semantic_type\": \"\",\n        \"description\": \"\"\n      }\n    }\n  ]\n}"
            }
          },
          "metadata": {},
          "execution_count": 2
        }
      ]
    },
    {
      "cell_type": "markdown",
      "source": [
        "# **EDA**"
      ],
      "metadata": {
        "id": "wZbQbFHZU1C8"
      }
    },
    {
      "cell_type": "code",
      "source": [
        "df.info()"
      ],
      "metadata": {
        "colab": {
          "base_uri": "https://localhost:8080/"
        },
        "id": "JIoc_F_nKVMI",
        "outputId": "d54813a8-d845-401a-9e59-2206ba60d526"
      },
      "execution_count": 3,
      "outputs": [
        {
          "output_type": "stream",
          "name": "stdout",
          "text": [
            "<class 'pandas.core.frame.DataFrame'>\n",
            "RangeIndex: 1000 entries, 0 to 999\n",
            "Data columns (total 7 columns):\n",
            " #   Column     Non-Null Count  Dtype \n",
            "---  ------     --------------  ----- \n",
            " 0   Title      1000 non-null   object\n",
            " 1   Price      1000 non-null   object\n",
            " 2   Rating     1000 non-null   object\n",
            " 3   Colors     1000 non-null   int64 \n",
            " 4   Size       1000 non-null   object\n",
            " 5   Gender     1000 non-null   object\n",
            " 6   Timestamp  1000 non-null   object\n",
            "dtypes: int64(1), object(6)\n",
            "memory usage: 54.8+ KB\n"
          ]
        }
      ]
    },
    {
      "cell_type": "markdown",
      "source": [
        "Berdasarkan info df di atas, dapat dilihat terdapat kolom yang tipe datanya masih belum sesuai: Price dan Rating. **Ntar kita ubah**.\n",
        "\n",
        "Selanjutnya kita cek, apakah ada baris data yang duplikat atau tidak."
      ],
      "metadata": {
        "id": "ZKsWT8cB_pdg"
      }
    },
    {
      "cell_type": "code",
      "source": [
        "# cek duplikasi data\n",
        "print(f\"Jumlah duplikasi data: {df.duplicated().sum()}\")"
      ],
      "metadata": {
        "colab": {
          "base_uri": "https://localhost:8080/"
        },
        "id": "kDsuTJTPUdXk",
        "outputId": "91fcb211-8a27-4d8b-ec40-aaf78a539f38"
      },
      "execution_count": 4,
      "outputs": [
        {
          "output_type": "stream",
          "name": "stdout",
          "text": [
            "Jumlah duplikasi data: 50\n"
          ]
        }
      ]
    },
    {
      "cell_type": "markdown",
      "source": [
        "Ada 50 baris data yang memiliki duplikat! **Harus kita hapus** nanti."
      ],
      "metadata": {
        "id": "Jr1jXJMdUnVb"
      }
    },
    {
      "cell_type": "markdown",
      "source": [
        "## **Title**"
      ],
      "metadata": {
        "id": "02RH1sLD_HuN"
      }
    },
    {
      "cell_type": "markdown",
      "source": [
        "Btw tentang duplikasi, jadi kepikiran. Kira-kira ada ga ya nama produk yang muncul lebih dari sekali? Soalnya kan itu juga sama aja kek data duplikat? Coba kita periksa."
      ],
      "metadata": {
        "id": "y8kLrnwgOofC"
      }
    },
    {
      "cell_type": "code",
      "source": [
        "df['Title'].value_counts().head()"
      ],
      "metadata": {
        "id": "Qsm9rfRJ1iAW",
        "colab": {
          "base_uri": "https://localhost:8080/",
          "height": 272
        },
        "outputId": "77166402-45cc-4db1-d53f-2a0654613e15"
      },
      "execution_count": 5,
      "outputs": [
        {
          "output_type": "execute_result",
          "data": {
            "text/plain": [
              "Title\n",
              "Unknown Product    100\n",
              "Outerwear 749        1\n",
              "Pants 658            1\n",
              "Outerwear 659        1\n",
              "Jacket 660           1\n",
              "Name: count, dtype: int64"
            ],
            "text/html": [
              "<div>\n",
              "<style scoped>\n",
              "    .dataframe tbody tr th:only-of-type {\n",
              "        vertical-align: middle;\n",
              "    }\n",
              "\n",
              "    .dataframe tbody tr th {\n",
              "        vertical-align: top;\n",
              "    }\n",
              "\n",
              "    .dataframe thead th {\n",
              "        text-align: right;\n",
              "    }\n",
              "</style>\n",
              "<table border=\"1\" class=\"dataframe\">\n",
              "  <thead>\n",
              "    <tr style=\"text-align: right;\">\n",
              "      <th></th>\n",
              "      <th>count</th>\n",
              "    </tr>\n",
              "    <tr>\n",
              "      <th>Title</th>\n",
              "      <th></th>\n",
              "    </tr>\n",
              "  </thead>\n",
              "  <tbody>\n",
              "    <tr>\n",
              "      <th>Unknown Product</th>\n",
              "      <td>100</td>\n",
              "    </tr>\n",
              "    <tr>\n",
              "      <th>Outerwear 749</th>\n",
              "      <td>1</td>\n",
              "    </tr>\n",
              "    <tr>\n",
              "      <th>Pants 658</th>\n",
              "      <td>1</td>\n",
              "    </tr>\n",
              "    <tr>\n",
              "      <th>Outerwear 659</th>\n",
              "      <td>1</td>\n",
              "    </tr>\n",
              "    <tr>\n",
              "      <th>Jacket 660</th>\n",
              "      <td>1</td>\n",
              "    </tr>\n",
              "  </tbody>\n",
              "</table>\n",
              "</div><br><label><b>dtype:</b> int64</label>"
            ]
          },
          "metadata": {},
          "execution_count": 5
        }
      ]
    },
    {
      "cell_type": "markdown",
      "source": [
        "Wah, ternyata ada 100 baris data yang Title nya sama: `Unknown Product`. **Harus kita hapus** nanti. Sisanya aman, unik semua masing-masing 1 data per Title product."
      ],
      "metadata": {
        "id": "tpt2JobON0ie"
      }
    },
    {
      "cell_type": "markdown",
      "source": [
        "## **Price**"
      ],
      "metadata": {
        "id": "gQTbcMqx_Z_u"
      }
    },
    {
      "cell_type": "code",
      "source": [
        "df['Price'].value_counts().head()"
      ],
      "metadata": {
        "colab": {
          "base_uri": "https://localhost:8080/",
          "height": 272
        },
        "id": "9c3PCQNRWQju",
        "outputId": "f94e2ad5-b1a8-4d65-b883-4cfe9904a8c0"
      },
      "execution_count": 6,
      "outputs": [
        {
          "output_type": "execute_result",
          "data": {
            "text/plain": [
              "Price\n",
              "$100.00              101\n",
              "Price Unavailable     33\n",
              "$63.48                 2\n",
              "$73.21                 2\n",
              "$383.39                2\n",
              "Name: count, dtype: int64"
            ],
            "text/html": [
              "<div>\n",
              "<style scoped>\n",
              "    .dataframe tbody tr th:only-of-type {\n",
              "        vertical-align: middle;\n",
              "    }\n",
              "\n",
              "    .dataframe tbody tr th {\n",
              "        vertical-align: top;\n",
              "    }\n",
              "\n",
              "    .dataframe thead th {\n",
              "        text-align: right;\n",
              "    }\n",
              "</style>\n",
              "<table border=\"1\" class=\"dataframe\">\n",
              "  <thead>\n",
              "    <tr style=\"text-align: right;\">\n",
              "      <th></th>\n",
              "      <th>count</th>\n",
              "    </tr>\n",
              "    <tr>\n",
              "      <th>Price</th>\n",
              "      <th></th>\n",
              "    </tr>\n",
              "  </thead>\n",
              "  <tbody>\n",
              "    <tr>\n",
              "      <th>$100.00</th>\n",
              "      <td>101</td>\n",
              "    </tr>\n",
              "    <tr>\n",
              "      <th>Price Unavailable</th>\n",
              "      <td>33</td>\n",
              "    </tr>\n",
              "    <tr>\n",
              "      <th>$63.48</th>\n",
              "      <td>2</td>\n",
              "    </tr>\n",
              "    <tr>\n",
              "      <th>$73.21</th>\n",
              "      <td>2</td>\n",
              "    </tr>\n",
              "    <tr>\n",
              "      <th>$383.39</th>\n",
              "      <td>2</td>\n",
              "    </tr>\n",
              "  </tbody>\n",
              "</table>\n",
              "</div><br><label><b>dtype:</b> int64</label>"
            ]
          },
          "metadata": {},
          "execution_count": 6
        }
      ]
    },
    {
      "cell_type": "markdown",
      "source": [
        "Kita **harus hapus simbol $** di setiap value kolom Price. Terus juga baris yang punya value `Price Unavailable` juga **harus kita hapus**, soalnya bakal error pas ubah tipe data, karena harus pure angka kalau mau ubah tipe data ke float."
      ],
      "metadata": {
        "id": "OKgPS29f9p43"
      }
    },
    {
      "cell_type": "markdown",
      "source": [
        "## **Rating**"
      ],
      "metadata": {
        "id": "HJ61oKECVyvy"
      }
    },
    {
      "cell_type": "markdown",
      "source": [
        "Sekarang, kita periksa kolom `Rating`."
      ],
      "metadata": {
        "id": "qBsifpfyPegu"
      }
    },
    {
      "cell_type": "code",
      "source": [
        "df['Rating'].value_counts()"
      ],
      "metadata": {
        "colab": {
          "base_uri": "https://localhost:8080/",
          "height": 836
        },
        "id": "hSyapim_Prq0",
        "outputId": "1bfbf7ba-7734-4f8a-d5f0-db7df8356474"
      },
      "execution_count": 7,
      "outputs": [
        {
          "output_type": "execute_result",
          "data": {
            "text/plain": [
              "Rating\n",
              " Invalid Rating / 5    100\n",
              " 3.1 / 5                53\n",
              " 4.5 / 5                53\n",
              " 4.7 / 5                51\n",
              " 3.2 / 5                47\n",
              " 3.3 / 5                46\n",
              " 3.9 / 5                46\n",
              " 3.8 / 5                46\n",
              " 4.2 / 5                45\n",
              " 3.6 / 5                45\n",
              " 4.8 / 5                42\n",
              " 4.6 / 5                42\n",
              " 4.4 / 5                42\n",
              " 4.9 / 5                42\n",
              " 4.1 / 5                40\n",
              " 3.4 / 5                39\n",
              " 3.5 / 5                38\n",
              " 4.3 / 5                38\n",
              " 4.0 / 5                35\n",
              "Rating: Not Rated       33\n",
              " 3.7 / 5                32\n",
              " 3.0 / 5                27\n",
              " 5.0 / 5                18\n",
              "Name: count, dtype: int64"
            ],
            "text/html": [
              "<div>\n",
              "<style scoped>\n",
              "    .dataframe tbody tr th:only-of-type {\n",
              "        vertical-align: middle;\n",
              "    }\n",
              "\n",
              "    .dataframe tbody tr th {\n",
              "        vertical-align: top;\n",
              "    }\n",
              "\n",
              "    .dataframe thead th {\n",
              "        text-align: right;\n",
              "    }\n",
              "</style>\n",
              "<table border=\"1\" class=\"dataframe\">\n",
              "  <thead>\n",
              "    <tr style=\"text-align: right;\">\n",
              "      <th></th>\n",
              "      <th>count</th>\n",
              "    </tr>\n",
              "    <tr>\n",
              "      <th>Rating</th>\n",
              "      <th></th>\n",
              "    </tr>\n",
              "  </thead>\n",
              "  <tbody>\n",
              "    <tr>\n",
              "      <th>Invalid Rating / 5</th>\n",
              "      <td>100</td>\n",
              "    </tr>\n",
              "    <tr>\n",
              "      <th>3.1 / 5</th>\n",
              "      <td>53</td>\n",
              "    </tr>\n",
              "    <tr>\n",
              "      <th>4.5 / 5</th>\n",
              "      <td>53</td>\n",
              "    </tr>\n",
              "    <tr>\n",
              "      <th>4.7 / 5</th>\n",
              "      <td>51</td>\n",
              "    </tr>\n",
              "    <tr>\n",
              "      <th>3.2 / 5</th>\n",
              "      <td>47</td>\n",
              "    </tr>\n",
              "    <tr>\n",
              "      <th>3.3 / 5</th>\n",
              "      <td>46</td>\n",
              "    </tr>\n",
              "    <tr>\n",
              "      <th>3.9 / 5</th>\n",
              "      <td>46</td>\n",
              "    </tr>\n",
              "    <tr>\n",
              "      <th>3.8 / 5</th>\n",
              "      <td>46</td>\n",
              "    </tr>\n",
              "    <tr>\n",
              "      <th>4.2 / 5</th>\n",
              "      <td>45</td>\n",
              "    </tr>\n",
              "    <tr>\n",
              "      <th>3.6 / 5</th>\n",
              "      <td>45</td>\n",
              "    </tr>\n",
              "    <tr>\n",
              "      <th>4.8 / 5</th>\n",
              "      <td>42</td>\n",
              "    </tr>\n",
              "    <tr>\n",
              "      <th>4.6 / 5</th>\n",
              "      <td>42</td>\n",
              "    </tr>\n",
              "    <tr>\n",
              "      <th>4.4 / 5</th>\n",
              "      <td>42</td>\n",
              "    </tr>\n",
              "    <tr>\n",
              "      <th>4.9 / 5</th>\n",
              "      <td>42</td>\n",
              "    </tr>\n",
              "    <tr>\n",
              "      <th>4.1 / 5</th>\n",
              "      <td>40</td>\n",
              "    </tr>\n",
              "    <tr>\n",
              "      <th>3.4 / 5</th>\n",
              "      <td>39</td>\n",
              "    </tr>\n",
              "    <tr>\n",
              "      <th>3.5 / 5</th>\n",
              "      <td>38</td>\n",
              "    </tr>\n",
              "    <tr>\n",
              "      <th>4.3 / 5</th>\n",
              "      <td>38</td>\n",
              "    </tr>\n",
              "    <tr>\n",
              "      <th>4.0 / 5</th>\n",
              "      <td>35</td>\n",
              "    </tr>\n",
              "    <tr>\n",
              "      <th>Rating: Not Rated</th>\n",
              "      <td>33</td>\n",
              "    </tr>\n",
              "    <tr>\n",
              "      <th>3.7 / 5</th>\n",
              "      <td>32</td>\n",
              "    </tr>\n",
              "    <tr>\n",
              "      <th>3.0 / 5</th>\n",
              "      <td>27</td>\n",
              "    </tr>\n",
              "    <tr>\n",
              "      <th>5.0 / 5</th>\n",
              "      <td>18</td>\n",
              "    </tr>\n",
              "  </tbody>\n",
              "</table>\n",
              "</div><br><label><b>dtype:</b> int64</label>"
            ]
          },
          "metadata": {},
          "execution_count": 7
        }
      ]
    },
    {
      "cell_type": "markdown",
      "source": [
        "Oala ternyata values nya masih dalam bentuk rating / 5. Jadi kita perlu **hapus dulu semua / 5** di valuesnya. Dann janlup **hapus Invalid Rating / 5 dan Rating: Not Rated** sebab keduanya tidak memberikan informasi untuk kebutuhan analisis kita."
      ],
      "metadata": {
        "id": "88L-YTL6Y-c-"
      }
    },
    {
      "cell_type": "markdown",
      "source": [
        "## **Colors**"
      ],
      "metadata": {
        "id": "VncFMyt1h1ju"
      }
    },
    {
      "cell_type": "code",
      "source": [
        "df['Colors'].value_counts()"
      ],
      "metadata": {
        "id": "4B9BQEbhh3tA",
        "colab": {
          "base_uri": "https://localhost:8080/",
          "height": 209
        },
        "outputId": "acbb90f6-d49d-4cc7-d0c2-21b9035d099d"
      },
      "execution_count": 8,
      "outputs": [
        {
          "output_type": "execute_result",
          "data": {
            "text/plain": [
              "Colors\n",
              "3    867\n",
              "5    100\n",
              "8     33\n",
              "Name: count, dtype: int64"
            ],
            "text/html": [
              "<div>\n",
              "<style scoped>\n",
              "    .dataframe tbody tr th:only-of-type {\n",
              "        vertical-align: middle;\n",
              "    }\n",
              "\n",
              "    .dataframe tbody tr th {\n",
              "        vertical-align: top;\n",
              "    }\n",
              "\n",
              "    .dataframe thead th {\n",
              "        text-align: right;\n",
              "    }\n",
              "</style>\n",
              "<table border=\"1\" class=\"dataframe\">\n",
              "  <thead>\n",
              "    <tr style=\"text-align: right;\">\n",
              "      <th></th>\n",
              "      <th>count</th>\n",
              "    </tr>\n",
              "    <tr>\n",
              "      <th>Colors</th>\n",
              "      <th></th>\n",
              "    </tr>\n",
              "  </thead>\n",
              "  <tbody>\n",
              "    <tr>\n",
              "      <th>3</th>\n",
              "      <td>867</td>\n",
              "    </tr>\n",
              "    <tr>\n",
              "      <th>5</th>\n",
              "      <td>100</td>\n",
              "    </tr>\n",
              "    <tr>\n",
              "      <th>8</th>\n",
              "      <td>33</td>\n",
              "    </tr>\n",
              "  </tbody>\n",
              "</table>\n",
              "</div><br><label><b>dtype:</b> int64</label>"
            ]
          },
          "metadata": {},
          "execution_count": 8
        }
      ]
    },
    {
      "cell_type": "markdown",
      "source": [
        "Kolom Colors sejauh ini aman, udah bener valuenya."
      ],
      "metadata": {
        "id": "h0mhr99slbeY"
      }
    },
    {
      "cell_type": "markdown",
      "source": [
        "## **Size**"
      ],
      "metadata": {
        "id": "c-jy6UWzljJa"
      }
    },
    {
      "cell_type": "code",
      "source": [
        "df['Size'].value_counts()"
      ],
      "metadata": {
        "colab": {
          "base_uri": "https://localhost:8080/",
          "height": 272
        },
        "id": "9b2FezpMloB2",
        "outputId": "69d37fb4-5171-46ae-d9a4-d24479b2ca26"
      },
      "execution_count": 9,
      "outputs": [
        {
          "output_type": "execute_result",
          "data": {
            "text/plain": [
              "Size\n",
              "M      300\n",
              "L      200\n",
              "XL     200\n",
              "XXL    200\n",
              "S      100\n",
              "Name: count, dtype: int64"
            ],
            "text/html": [
              "<div>\n",
              "<style scoped>\n",
              "    .dataframe tbody tr th:only-of-type {\n",
              "        vertical-align: middle;\n",
              "    }\n",
              "\n",
              "    .dataframe tbody tr th {\n",
              "        vertical-align: top;\n",
              "    }\n",
              "\n",
              "    .dataframe thead th {\n",
              "        text-align: right;\n",
              "    }\n",
              "</style>\n",
              "<table border=\"1\" class=\"dataframe\">\n",
              "  <thead>\n",
              "    <tr style=\"text-align: right;\">\n",
              "      <th></th>\n",
              "      <th>count</th>\n",
              "    </tr>\n",
              "    <tr>\n",
              "      <th>Size</th>\n",
              "      <th></th>\n",
              "    </tr>\n",
              "  </thead>\n",
              "  <tbody>\n",
              "    <tr>\n",
              "      <th>M</th>\n",
              "      <td>300</td>\n",
              "    </tr>\n",
              "    <tr>\n",
              "      <th>L</th>\n",
              "      <td>200</td>\n",
              "    </tr>\n",
              "    <tr>\n",
              "      <th>XL</th>\n",
              "      <td>200</td>\n",
              "    </tr>\n",
              "    <tr>\n",
              "      <th>XXL</th>\n",
              "      <td>200</td>\n",
              "    </tr>\n",
              "    <tr>\n",
              "      <th>S</th>\n",
              "      <td>100</td>\n",
              "    </tr>\n",
              "  </tbody>\n",
              "</table>\n",
              "</div><br><label><b>dtype:</b> int64</label>"
            ]
          },
          "metadata": {},
          "execution_count": 9
        }
      ]
    },
    {
      "cell_type": "markdown",
      "source": [
        "Size juga aman."
      ],
      "metadata": {
        "id": "fcLidyHJlst9"
      }
    },
    {
      "cell_type": "markdown",
      "source": [
        "## **Gender**"
      ],
      "metadata": {
        "id": "KMsOROjVlmjW"
      }
    },
    {
      "cell_type": "code",
      "source": [
        "df['Gender'].value_counts()"
      ],
      "metadata": {
        "colab": {
          "base_uri": "https://localhost:8080/",
          "height": 209
        },
        "id": "xTi-IbbrlvGL",
        "outputId": "4e5ee678-9f7e-4bf3-a6d6-6cf0bf7f49e2"
      },
      "execution_count": 10,
      "outputs": [
        {
          "output_type": "execute_result",
          "data": {
            "text/plain": [
              "Gender\n",
              "Men       400\n",
              "Women     300\n",
              "Unisex    300\n",
              "Name: count, dtype: int64"
            ],
            "text/html": [
              "<div>\n",
              "<style scoped>\n",
              "    .dataframe tbody tr th:only-of-type {\n",
              "        vertical-align: middle;\n",
              "    }\n",
              "\n",
              "    .dataframe tbody tr th {\n",
              "        vertical-align: top;\n",
              "    }\n",
              "\n",
              "    .dataframe thead th {\n",
              "        text-align: right;\n",
              "    }\n",
              "</style>\n",
              "<table border=\"1\" class=\"dataframe\">\n",
              "  <thead>\n",
              "    <tr style=\"text-align: right;\">\n",
              "      <th></th>\n",
              "      <th>count</th>\n",
              "    </tr>\n",
              "    <tr>\n",
              "      <th>Gender</th>\n",
              "      <th></th>\n",
              "    </tr>\n",
              "  </thead>\n",
              "  <tbody>\n",
              "    <tr>\n",
              "      <th>Men</th>\n",
              "      <td>400</td>\n",
              "    </tr>\n",
              "    <tr>\n",
              "      <th>Women</th>\n",
              "      <td>300</td>\n",
              "    </tr>\n",
              "    <tr>\n",
              "      <th>Unisex</th>\n",
              "      <td>300</td>\n",
              "    </tr>\n",
              "  </tbody>\n",
              "</table>\n",
              "</div><br><label><b>dtype:</b> int64</label>"
            ]
          },
          "metadata": {},
          "execution_count": 10
        }
      ]
    },
    {
      "cell_type": "markdown",
      "source": [
        "Gender aman."
      ],
      "metadata": {
        "id": "jH61GBhIlyU6"
      }
    },
    {
      "cell_type": "markdown",
      "source": [
        "# **Transform**"
      ],
      "metadata": {
        "id": "ZE53kHvQk3dq"
      }
    },
    {
      "cell_type": "markdown",
      "source": [
        "Berdasarkan EDA yang sudah kita lakukan sebelumnya, berikut langkah-langkah transformasi data yang harus kita lakukan supaya datanya kinclong:\n",
        "\n",
        "\n",
        "1. Hapus baris dengan kolom Title ber-value `Unknown Product`.\n",
        "2. Hapus baris dengan kolom Price ber-value `Price Unavailable`.\n",
        "3. Hapus semua `$` di values kolom Price.\n",
        "4. Hapus baris dengan kolom Rating ber-value `Invalid Rating / 5` dan `Rating: Not Rated`.\n",
        "5. Hapus semua ` / 5` di values kolom Rating.\n",
        "6. Hapus semua data duplikat.\n",
        "7. Ubah tipe data kolom `Price` dan `Rating` menjadi float."
      ],
      "metadata": {
        "id": "9UU9Vlnfl5Uy"
      }
    },
    {
      "cell_type": "code",
      "source": [
        "# 1. hapus data dengan value kolom Title == 'Unknown Product'\n",
        "df = df[df['Title'] != 'Unknown Product'].copy()\n",
        "\n",
        "# cek df sekarang\n",
        "df.info()"
      ],
      "metadata": {
        "id": "5eqOmkFuNgHa",
        "colab": {
          "base_uri": "https://localhost:8080/"
        },
        "outputId": "f6a3a82c-9a62-43c2-9dc5-5705c1a0d943"
      },
      "execution_count": 11,
      "outputs": [
        {
          "output_type": "stream",
          "name": "stdout",
          "text": [
            "<class 'pandas.core.frame.DataFrame'>\n",
            "Index: 900 entries, 1 to 999\n",
            "Data columns (total 7 columns):\n",
            " #   Column     Non-Null Count  Dtype \n",
            "---  ------     --------------  ----- \n",
            " 0   Title      900 non-null    object\n",
            " 1   Price      900 non-null    object\n",
            " 2   Rating     900 non-null    object\n",
            " 3   Colors     900 non-null    int64 \n",
            " 4   Size       900 non-null    object\n",
            " 5   Gender     900 non-null    object\n",
            " 6   Timestamp  900 non-null    object\n",
            "dtypes: int64(1), object(6)\n",
            "memory usage: 56.2+ KB\n"
          ]
        }
      ]
    },
    {
      "cell_type": "code",
      "source": [
        "# 2. hapus baris dengan kolom Price ber-value 'Price Unavailable'\n",
        "df = df[(df['Price'] != 'Price Unavailable') & (df['Price'].notna())].copy()\n",
        "df.info()"
      ],
      "metadata": {
        "colab": {
          "base_uri": "https://localhost:8080/"
        },
        "id": "lVRzRQAkBvhr",
        "outputId": "117b0aa0-8877-42b5-e8a6-f77c9aa0a222"
      },
      "execution_count": 12,
      "outputs": [
        {
          "output_type": "stream",
          "name": "stdout",
          "text": [
            "<class 'pandas.core.frame.DataFrame'>\n",
            "Index: 867 entries, 1 to 999\n",
            "Data columns (total 7 columns):\n",
            " #   Column     Non-Null Count  Dtype \n",
            "---  ------     --------------  ----- \n",
            " 0   Title      867 non-null    object\n",
            " 1   Price      867 non-null    object\n",
            " 2   Rating     867 non-null    object\n",
            " 3   Colors     867 non-null    int64 \n",
            " 4   Size       867 non-null    object\n",
            " 5   Gender     867 non-null    object\n",
            " 6   Timestamp  867 non-null    object\n",
            "dtypes: int64(1), object(6)\n",
            "memory usage: 54.2+ KB\n"
          ]
        }
      ]
    },
    {
      "cell_type": "code",
      "source": [
        "# 3. hapus semua '$' di values kolom Price\n",
        "df['Price'] = df['Price'].str.replace('$', '')\n",
        "df['Price'].head(2)"
      ],
      "metadata": {
        "colab": {
          "base_uri": "https://localhost:8080/",
          "height": 147
        },
        "id": "EKvBmOZ7Abyx",
        "outputId": "7f81e2a9-6692-485d-ef37-e18e48ee14ab"
      },
      "execution_count": 13,
      "outputs": [
        {
          "output_type": "execute_result",
          "data": {
            "text/plain": [
              "1    102.15\n",
              "2    496.88\n",
              "Name: Price, dtype: object"
            ],
            "text/html": [
              "<div>\n",
              "<style scoped>\n",
              "    .dataframe tbody tr th:only-of-type {\n",
              "        vertical-align: middle;\n",
              "    }\n",
              "\n",
              "    .dataframe tbody tr th {\n",
              "        vertical-align: top;\n",
              "    }\n",
              "\n",
              "    .dataframe thead th {\n",
              "        text-align: right;\n",
              "    }\n",
              "</style>\n",
              "<table border=\"1\" class=\"dataframe\">\n",
              "  <thead>\n",
              "    <tr style=\"text-align: right;\">\n",
              "      <th></th>\n",
              "      <th>Price</th>\n",
              "    </tr>\n",
              "  </thead>\n",
              "  <tbody>\n",
              "    <tr>\n",
              "      <th>1</th>\n",
              "      <td>102.15</td>\n",
              "    </tr>\n",
              "    <tr>\n",
              "      <th>2</th>\n",
              "      <td>496.88</td>\n",
              "    </tr>\n",
              "  </tbody>\n",
              "</table>\n",
              "</div><br><label><b>dtype:</b> object</label>"
            ]
          },
          "metadata": {},
          "execution_count": 13
        }
      ]
    },
    {
      "cell_type": "code",
      "source": [
        "# 4. hapus baris dengan kolom Rating ber-value 'Invalid Rating / 5' dan 'Rating: Not Rated'\n",
        "df = df[df['Rating'] != 'Invalid Rating']\n",
        "df = df[df['Rating'] != 'Rating: Not Rated']\n",
        "\n",
        "# cek masih ada atau ga yang bervalue itu\n",
        "df['Rating'].value_counts().head()"
      ],
      "metadata": {
        "colab": {
          "base_uri": "https://localhost:8080/",
          "height": 272
        },
        "id": "KCjeuFHfpJ1o",
        "outputId": "be76a3bd-eb6f-4d7e-d2e6-1eef6c0a6e5c"
      },
      "execution_count": 14,
      "outputs": [
        {
          "output_type": "execute_result",
          "data": {
            "text/plain": [
              "Rating\n",
              "3.1 / 5    53\n",
              "4.5 / 5    53\n",
              "4.7 / 5    51\n",
              "3.2 / 5    47\n",
              "3.9 / 5    46\n",
              "Name: count, dtype: int64"
            ],
            "text/html": [
              "<div>\n",
              "<style scoped>\n",
              "    .dataframe tbody tr th:only-of-type {\n",
              "        vertical-align: middle;\n",
              "    }\n",
              "\n",
              "    .dataframe tbody tr th {\n",
              "        vertical-align: top;\n",
              "    }\n",
              "\n",
              "    .dataframe thead th {\n",
              "        text-align: right;\n",
              "    }\n",
              "</style>\n",
              "<table border=\"1\" class=\"dataframe\">\n",
              "  <thead>\n",
              "    <tr style=\"text-align: right;\">\n",
              "      <th></th>\n",
              "      <th>count</th>\n",
              "    </tr>\n",
              "    <tr>\n",
              "      <th>Rating</th>\n",
              "      <th></th>\n",
              "    </tr>\n",
              "  </thead>\n",
              "  <tbody>\n",
              "    <tr>\n",
              "      <th>3.1 / 5</th>\n",
              "      <td>53</td>\n",
              "    </tr>\n",
              "    <tr>\n",
              "      <th>4.5 / 5</th>\n",
              "      <td>53</td>\n",
              "    </tr>\n",
              "    <tr>\n",
              "      <th>4.7 / 5</th>\n",
              "      <td>51</td>\n",
              "    </tr>\n",
              "    <tr>\n",
              "      <th>3.2 / 5</th>\n",
              "      <td>47</td>\n",
              "    </tr>\n",
              "    <tr>\n",
              "      <th>3.9 / 5</th>\n",
              "      <td>46</td>\n",
              "    </tr>\n",
              "  </tbody>\n",
              "</table>\n",
              "</div><br><label><b>dtype:</b> int64</label>"
            ]
          },
          "metadata": {},
          "execution_count": 14
        }
      ]
    },
    {
      "cell_type": "code",
      "source": [
        "# 5. hapus semua ' / 5' di values kolom Rating\n",
        "df['Rating'] = df['Rating'].str.replace(' / 5', '').str.strip()\n",
        "df = df[df['Rating'] != 'Invalid Rating']"
      ],
      "metadata": {
        "id": "5qv1BHcIZFt7"
      },
      "execution_count": 15,
      "outputs": []
    },
    {
      "cell_type": "code",
      "source": [
        "# 6. hapus semua data duplikat\n",
        "df.drop_duplicates(inplace=True)\n",
        "print(f\"Jumlah data duplikat: {df.duplicated().sum()}\")"
      ],
      "metadata": {
        "colab": {
          "base_uri": "https://localhost:8080/"
        },
        "id": "8jz4E-KkpwdR",
        "outputId": "2b3825ad-2f8b-42c7-96a5-035c4ff9e518"
      },
      "execution_count": 16,
      "outputs": [
        {
          "output_type": "stream",
          "name": "stdout",
          "text": [
            "Jumlah data duplikat: 0\n"
          ]
        }
      ]
    },
    {
      "cell_type": "code",
      "source": [
        "# 7. ubah tipe data kolom `Price` dan `Rating` menjadi float\n",
        "df['Price'] = df['Price'].astype('float64')\n",
        "df['Rating'] = df['Rating'].astype('float64')\n",
        "df.info()"
      ],
      "metadata": {
        "colab": {
          "base_uri": "https://localhost:8080/"
        },
        "id": "YCCrJU97_o2q",
        "outputId": "f9f9e442-ba62-4f7d-e99c-710dfef86a76"
      },
      "execution_count": 17,
      "outputs": [
        {
          "output_type": "stream",
          "name": "stdout",
          "text": [
            "<class 'pandas.core.frame.DataFrame'>\n",
            "Index: 867 entries, 1 to 999\n",
            "Data columns (total 7 columns):\n",
            " #   Column     Non-Null Count  Dtype  \n",
            "---  ------     --------------  -----  \n",
            " 0   Title      867 non-null    object \n",
            " 1   Price      867 non-null    float64\n",
            " 2   Rating     867 non-null    float64\n",
            " 3   Colors     867 non-null    int64  \n",
            " 4   Size       867 non-null    object \n",
            " 5   Gender     867 non-null    object \n",
            " 6   Timestamp  867 non-null    object \n",
            "dtypes: float64(2), int64(1), object(4)\n",
            "memory usage: 54.2+ KB\n"
          ]
        }
      ]
    },
    {
      "cell_type": "markdown",
      "source": [
        "Siiipp, dah kinclong :D"
      ],
      "metadata": {
        "id": "sXENulRQqVsh"
      }
    },
    {
      "cell_type": "code",
      "source": [],
      "metadata": {
        "id": "Yexgh8BQqOQ5"
      },
      "execution_count": 17,
      "outputs": []
    }
  ]
}